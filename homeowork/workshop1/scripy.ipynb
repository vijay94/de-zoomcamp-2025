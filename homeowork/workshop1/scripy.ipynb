{
 "cells": [
  {
   "cell_type": "code",
   "execution_count": 7,
   "metadata": {},
   "outputs": [
    {
     "name": "stdout",
     "output_type": "stream",
     "text": [
      "Requirement already satisfied: dlt[duckdb] in /Users/vijays/.local/share/mise/installs/python/3.11.11/lib/python3.11/site-packages (1.6.1)\n",
      "Requirement already satisfied: PyYAML>=5.4.1 in /Users/vijays/.local/share/mise/installs/python/3.11.11/lib/python3.11/site-packages (from dlt[duckdb]) (6.0.2)\n",
      "Requirement already satisfied: click>=7.1 in /Users/vijays/.local/share/mise/installs/python/3.11.11/lib/python3.11/site-packages (from dlt[duckdb]) (8.1.8)\n",
      "Collecting duckdb>=0.9 (from dlt[duckdb])\n",
      "  Downloading duckdb-1.2.0-cp311-cp311-macosx_12_0_x86_64.whl.metadata (966 bytes)\n",
      "Requirement already satisfied: fsspec>=2022.4.0 in /Users/vijays/.local/share/mise/installs/python/3.11.11/lib/python3.11/site-packages (from dlt[duckdb]) (2025.2.0)\n",
      "Requirement already satisfied: gitpython>=3.1.29 in /Users/vijays/.local/share/mise/installs/python/3.11.11/lib/python3.11/site-packages (from dlt[duckdb]) (3.1.44)\n",
      "Requirement already satisfied: giturlparse>=0.10.0 in /Users/vijays/.local/share/mise/installs/python/3.11.11/lib/python3.11/site-packages (from dlt[duckdb]) (0.12.0)\n",
      "Requirement already satisfied: hexbytes>=0.2.2 in /Users/vijays/.local/share/mise/installs/python/3.11.11/lib/python3.11/site-packages (from dlt[duckdb]) (1.3.0)\n",
      "Requirement already satisfied: humanize>=4.4.0 in /Users/vijays/.local/share/mise/installs/python/3.11.11/lib/python3.11/site-packages (from dlt[duckdb]) (4.11.0)\n",
      "Requirement already satisfied: jsonpath-ng>=1.5.3 in /Users/vijays/.local/share/mise/installs/python/3.11.11/lib/python3.11/site-packages (from dlt[duckdb]) (1.7.0)\n",
      "Requirement already satisfied: makefun>=1.15.0 in /Users/vijays/.local/share/mise/installs/python/3.11.11/lib/python3.11/site-packages (from dlt[duckdb]) (1.15.6)\n",
      "Requirement already satisfied: orjson!=3.10.1,!=3.9.11,!=3.9.12,!=3.9.13,!=3.9.14,<4,>=3.6.7 in /Users/vijays/.local/share/mise/installs/python/3.11.11/lib/python3.11/site-packages (from dlt[duckdb]) (3.10.15)\n",
      "Requirement already satisfied: packaging>=21.1 in /Users/vijays/.local/lib/python3.11/site-packages (from dlt[duckdb]) (24.2)\n",
      "Requirement already satisfied: pathvalidate>=2.5.2 in /Users/vijays/.local/share/mise/installs/python/3.11.11/lib/python3.11/site-packages (from dlt[duckdb]) (3.2.3)\n",
      "Requirement already satisfied: pendulum>=2.1.2 in /Users/vijays/.local/share/mise/installs/python/3.11.11/lib/python3.11/site-packages (from dlt[duckdb]) (3.0.0)\n",
      "Requirement already satisfied: pluggy>=1.3.0 in /Users/vijays/.local/share/mise/installs/python/3.11.11/lib/python3.11/site-packages (from dlt[duckdb]) (1.5.0)\n",
      "Requirement already satisfied: pytz>=2022.6 in /Users/vijays/.local/share/mise/installs/python/3.11.11/lib/python3.11/site-packages (from dlt[duckdb]) (2024.2)\n",
      "Requirement already satisfied: requests>=2.26.0 in /Users/vijays/.local/share/mise/installs/python/3.11.11/lib/python3.11/site-packages (from dlt[duckdb]) (2.32.3)\n",
      "Requirement already satisfied: requirements-parser>=0.5.0 in /Users/vijays/.local/share/mise/installs/python/3.11.11/lib/python3.11/site-packages (from dlt[duckdb]) (0.11.0)\n",
      "Requirement already satisfied: rich-argparse<2.0.0,>=1.6.0 in /Users/vijays/.local/share/mise/installs/python/3.11.11/lib/python3.11/site-packages (from dlt[duckdb]) (1.7.0)\n",
      "Requirement already satisfied: semver>=3.0.0 in /Users/vijays/.local/share/mise/installs/python/3.11.11/lib/python3.11/site-packages (from dlt[duckdb]) (3.0.4)\n",
      "Requirement already satisfied: setuptools>=65.6.0 in /Users/vijays/.local/share/mise/installs/python/3.11.11/lib/python3.11/site-packages (from dlt[duckdb]) (75.6.0)\n",
      "Requirement already satisfied: simplejson>=3.17.5 in /Users/vijays/.local/share/mise/installs/python/3.11.11/lib/python3.11/site-packages (from dlt[duckdb]) (3.19.3)\n",
      "Requirement already satisfied: tenacity>=8.0.2 in /Users/vijays/.local/share/mise/installs/python/3.11.11/lib/python3.11/site-packages (from dlt[duckdb]) (9.0.0)\n",
      "Requirement already satisfied: tomlkit>=0.11.3 in /Users/vijays/.local/share/mise/installs/python/3.11.11/lib/python3.11/site-packages (from dlt[duckdb]) (0.13.2)\n",
      "Requirement already satisfied: typing-extensions>=4.8.0 in /Users/vijays/.local/share/mise/installs/python/3.11.11/lib/python3.11/site-packages (from dlt[duckdb]) (4.12.2)\n",
      "Requirement already satisfied: tzdata>=2022.1 in /Users/vijays/.local/share/mise/installs/python/3.11.11/lib/python3.11/site-packages (from dlt[duckdb]) (2024.2)\n",
      "Requirement already satisfied: gitdb<5,>=4.0.1 in /Users/vijays/.local/share/mise/installs/python/3.11.11/lib/python3.11/site-packages (from gitpython>=3.1.29->dlt[duckdb]) (4.0.12)\n",
      "Requirement already satisfied: ply in /Users/vijays/.local/share/mise/installs/python/3.11.11/lib/python3.11/site-packages (from jsonpath-ng>=1.5.3->dlt[duckdb]) (3.11)\n",
      "Requirement already satisfied: python-dateutil>=2.6 in /Users/vijays/.local/share/mise/installs/python/3.11.11/lib/python3.11/site-packages (from pendulum>=2.1.2->dlt[duckdb]) (2.9.0.post0)\n",
      "Requirement already satisfied: time-machine>=2.6.0 in /Users/vijays/.local/share/mise/installs/python/3.11.11/lib/python3.11/site-packages (from pendulum>=2.1.2->dlt[duckdb]) (2.16.0)\n",
      "Requirement already satisfied: charset-normalizer<4,>=2 in /Users/vijays/.local/share/mise/installs/python/3.11.11/lib/python3.11/site-packages (from requests>=2.26.0->dlt[duckdb]) (3.4.1)\n",
      "Requirement already satisfied: idna<4,>=2.5 in /Users/vijays/.local/share/mise/installs/python/3.11.11/lib/python3.11/site-packages (from requests>=2.26.0->dlt[duckdb]) (3.10)\n",
      "Requirement already satisfied: urllib3<3,>=1.21.1 in /Users/vijays/.local/share/mise/installs/python/3.11.11/lib/python3.11/site-packages (from requests>=2.26.0->dlt[duckdb]) (2.3.0)\n",
      "Requirement already satisfied: certifi>=2017.4.17 in /Users/vijays/.local/share/mise/installs/python/3.11.11/lib/python3.11/site-packages (from requests>=2.26.0->dlt[duckdb]) (2025.1.31)\n",
      "Requirement already satisfied: types-setuptools>=69.1.0 in /Users/vijays/.local/share/mise/installs/python/3.11.11/lib/python3.11/site-packages (from requirements-parser>=0.5.0->dlt[duckdb]) (75.8.0.20250210)\n",
      "Requirement already satisfied: rich>=11.0.0 in /Users/vijays/.local/share/mise/installs/python/3.11.11/lib/python3.11/site-packages (from rich-argparse<2.0.0,>=1.6.0->dlt[duckdb]) (13.9.4)\n",
      "Requirement already satisfied: smmap<6,>=3.0.1 in /Users/vijays/.local/share/mise/installs/python/3.11.11/lib/python3.11/site-packages (from gitdb<5,>=4.0.1->gitpython>=3.1.29->dlt[duckdb]) (5.0.2)\n",
      "Requirement already satisfied: six>=1.5 in /Users/vijays/.local/share/mise/installs/python/3.11.11/lib/python3.11/site-packages (from python-dateutil>=2.6->pendulum>=2.1.2->dlt[duckdb]) (1.17.0)\n",
      "Requirement already satisfied: markdown-it-py>=2.2.0 in /Users/vijays/.local/share/mise/installs/python/3.11.11/lib/python3.11/site-packages (from rich>=11.0.0->rich-argparse<2.0.0,>=1.6.0->dlt[duckdb]) (3.0.0)\n",
      "Requirement already satisfied: pygments<3.0.0,>=2.13.0 in /Users/vijays/.local/share/mise/installs/python/3.11.11/lib/python3.11/site-packages (from rich>=11.0.0->rich-argparse<2.0.0,>=1.6.0->dlt[duckdb]) (2.19.1)\n",
      "Requirement already satisfied: mdurl~=0.1 in /Users/vijays/.local/share/mise/installs/python/3.11.11/lib/python3.11/site-packages (from markdown-it-py>=2.2.0->rich>=11.0.0->rich-argparse<2.0.0,>=1.6.0->dlt[duckdb]) (0.1.2)\n",
      "Downloading duckdb-1.2.0-cp311-cp311-macosx_12_0_x86_64.whl (16.8 MB)\n",
      "\u001b[2K   \u001b[38;2;114;156;31m━━━━━━━━━━━━━━━━━━━━━━━━━━━━━━━━━━━━━━━━\u001b[0m \u001b[32m16.8/16.8 MB\u001b[0m \u001b[31m15.7 MB/s\u001b[0m eta \u001b[36m0:00:00\u001b[0m MB/s\u001b[0m eta \u001b[36m0:00:01\u001b[0m:01\u001b[0m\n",
      "\u001b[?25hInstalling collected packages: duckdb\n",
      "Successfully installed duckdb-1.2.0\n",
      "\n",
      "\u001b[1m[\u001b[0m\u001b[34;49mnotice\u001b[0m\u001b[1;39;49m]\u001b[0m\u001b[39;49m A new release of pip is available: \u001b[0m\u001b[31;49m24.3.1\u001b[0m\u001b[39;49m -> \u001b[0m\u001b[32;49m25.0.1\u001b[0m\n",
      "\u001b[1m[\u001b[0m\u001b[34;49mnotice\u001b[0m\u001b[1;39;49m]\u001b[0m\u001b[39;49m To update, run: \u001b[0m\u001b[32;49mpip install --upgrade pip\u001b[0m\n"
     ]
    }
   ],
   "source": [
    "!pip install \"dlt[duckdb]\""
   ]
  },
  {
   "cell_type": "code",
   "execution_count": 8,
   "metadata": {},
   "outputs": [
    {
     "name": "stdout",
     "output_type": "stream",
     "text": [
      "\u001b[39mdlt 1.6.1\u001b[0m\n"
     ]
    }
   ],
   "source": [
    "!dlt --version"
   ]
  },
  {
   "cell_type": "code",
   "execution_count": 9,
   "metadata": {},
   "outputs": [],
   "source": [
    "import dlt\n",
    "from dlt.sources.helpers.rest_client import RESTClient\n",
    "from dlt.sources.helpers.rest_client.paginators import PageNumberPaginator\n",
    "\n",
    "\n",
    "# your code is here\n",
    "\n",
    "@dlt.resource(name=\"rides\")\n",
    "def ny_taxi():\n",
    "    client = RESTClient(\n",
    "        base_url=\"https://us-central1-dlthub-analytics.cloudfunctions.net\",\n",
    "        paginator=PageNumberPaginator(\n",
    "            base_page=1,\n",
    "            total_path=None\n",
    "        )\n",
    "    )\n",
    "\n",
    "    for page in client.paginate(\"data_engineering_zoomcamp_api\"):    # <--- API endpoint for retrieving taxi ride data\n",
    "        yield page\n",
    "\n",
    "\n",
    "pipeline = dlt.pipeline(\n",
    "    pipeline_name=\"ny_taxi_pipeline\",\n",
    "    destination=\"duckdb\",\n",
    "    dataset_name=\"ny_taxi_data\"\n",
    ")\n"
   ]
  },
  {
   "cell_type": "code",
   "execution_count": 10,
   "metadata": {},
   "outputs": [
    {
     "name": "stdout",
     "output_type": "stream",
     "text": [
      "Pipeline ny_taxi_pipeline load step completed in 2.30 seconds\n",
      "1 load package(s) were loaded to destination duckdb and into dataset ny_taxi_data\n",
      "The duckdb destination used duckdb:////Users/vijays/dev/personal/data-engineering/homeowork/workshop1/ny_taxi_pipeline.duckdb location to store data\n",
      "Load package 1739450298.908462 is LOADED and contains no failed jobs\n"
     ]
    }
   ],
   "source": [
    "load_info = pipeline.run(ny_taxi)\n",
    "print(load_info)"
   ]
  },
  {
   "cell_type": "code",
   "execution_count": 11,
   "metadata": {},
   "outputs": [
    {
     "data": {
      "text/html": [
       "<div>\n",
       "<style scoped>\n",
       "    .dataframe tbody tr th:only-of-type {\n",
       "        vertical-align: middle;\n",
       "    }\n",
       "\n",
       "    .dataframe tbody tr th {\n",
       "        vertical-align: top;\n",
       "    }\n",
       "\n",
       "    .dataframe thead th {\n",
       "        text-align: right;\n",
       "    }\n",
       "</style>\n",
       "<table border=\"1\" class=\"dataframe\">\n",
       "  <thead>\n",
       "    <tr style=\"text-align: right;\">\n",
       "      <th></th>\n",
       "      <th>database</th>\n",
       "      <th>schema</th>\n",
       "      <th>name</th>\n",
       "      <th>column_names</th>\n",
       "      <th>column_types</th>\n",
       "      <th>temporary</th>\n",
       "    </tr>\n",
       "  </thead>\n",
       "  <tbody>\n",
       "    <tr>\n",
       "      <th>0</th>\n",
       "      <td>ny_taxi_pipeline</td>\n",
       "      <td>ny_taxi_data</td>\n",
       "      <td>_dlt_loads</td>\n",
       "      <td>[load_id, schema_name, status, inserted_at, sc...</td>\n",
       "      <td>[VARCHAR, VARCHAR, BIGINT, TIMESTAMP WITH TIME...</td>\n",
       "      <td>False</td>\n",
       "    </tr>\n",
       "    <tr>\n",
       "      <th>1</th>\n",
       "      <td>ny_taxi_pipeline</td>\n",
       "      <td>ny_taxi_data</td>\n",
       "      <td>_dlt_pipeline_state</td>\n",
       "      <td>[version, engine_version, pipeline_name, state...</td>\n",
       "      <td>[BIGINT, BIGINT, VARCHAR, VARCHAR, TIMESTAMP W...</td>\n",
       "      <td>False</td>\n",
       "    </tr>\n",
       "    <tr>\n",
       "      <th>2</th>\n",
       "      <td>ny_taxi_pipeline</td>\n",
       "      <td>ny_taxi_data</td>\n",
       "      <td>_dlt_version</td>\n",
       "      <td>[version, engine_version, inserted_at, schema_...</td>\n",
       "      <td>[BIGINT, BIGINT, TIMESTAMP WITH TIME ZONE, VAR...</td>\n",
       "      <td>False</td>\n",
       "    </tr>\n",
       "    <tr>\n",
       "      <th>3</th>\n",
       "      <td>ny_taxi_pipeline</td>\n",
       "      <td>ny_taxi_data</td>\n",
       "      <td>rides</td>\n",
       "      <td>[end_lat, end_lon, fare_amt, passenger_count, ...</td>\n",
       "      <td>[DOUBLE, DOUBLE, DOUBLE, BIGINT, VARCHAR, DOUB...</td>\n",
       "      <td>False</td>\n",
       "    </tr>\n",
       "  </tbody>\n",
       "</table>\n",
       "</div>"
      ],
      "text/plain": [
       "           database        schema                 name  \\\n",
       "0  ny_taxi_pipeline  ny_taxi_data           _dlt_loads   \n",
       "1  ny_taxi_pipeline  ny_taxi_data  _dlt_pipeline_state   \n",
       "2  ny_taxi_pipeline  ny_taxi_data         _dlt_version   \n",
       "3  ny_taxi_pipeline  ny_taxi_data                rides   \n",
       "\n",
       "                                        column_names  \\\n",
       "0  [load_id, schema_name, status, inserted_at, sc...   \n",
       "1  [version, engine_version, pipeline_name, state...   \n",
       "2  [version, engine_version, inserted_at, schema_...   \n",
       "3  [end_lat, end_lon, fare_amt, passenger_count, ...   \n",
       "\n",
       "                                        column_types  temporary  \n",
       "0  [VARCHAR, VARCHAR, BIGINT, TIMESTAMP WITH TIME...      False  \n",
       "1  [BIGINT, BIGINT, VARCHAR, VARCHAR, TIMESTAMP W...      False  \n",
       "2  [BIGINT, BIGINT, TIMESTAMP WITH TIME ZONE, VAR...      False  \n",
       "3  [DOUBLE, DOUBLE, DOUBLE, BIGINT, VARCHAR, DOUB...      False  "
      ]
     },
     "execution_count": 11,
     "metadata": {},
     "output_type": "execute_result"
    }
   ],
   "source": [
    "import duckdb\n",
    "\n",
    "\n",
    "# Connect to the DuckDB database\n",
    "conn = duckdb.connect(f\"{pipeline.pipeline_name}.duckdb\")\n",
    "\n",
    "# Set search path to the dataset\n",
    "conn.sql(f\"SET search_path = '{pipeline.dataset_name}'\")\n",
    "\n",
    "# Describe the dataset\n",
    "conn.sql(\"DESCRIBE\").df()"
   ]
  },
  {
   "cell_type": "code",
   "execution_count": 14,
   "metadata": {},
   "outputs": [
    {
     "data": {
      "text/plain": [
       "(10000, 18)"
      ]
     },
     "execution_count": 14,
     "metadata": {},
     "output_type": "execute_result"
    }
   ],
   "source": [
    "df = pipeline.dataset(dataset_type=\"default\").rides.df()\n",
    "df.shape"
   ]
  },
  {
   "cell_type": "code",
   "execution_count": 15,
   "metadata": {},
   "outputs": [
    {
     "name": "stdout",
     "output_type": "stream",
     "text": [
      "[(12.3049,)]\n"
     ]
    }
   ],
   "source": [
    "with pipeline.sql_client() as client:\n",
    "    res = client.execute_sql(\n",
    "            \"\"\"\n",
    "            SELECT\n",
    "            AVG(date_diff('minute', trip_pickup_date_time, trip_dropoff_date_time))\n",
    "            FROM rides;\n",
    "            \"\"\"\n",
    "        )\n",
    "    # Prints column values of the first row\n",
    "    print(res)"
   ]
  }
 ],
 "metadata": {
  "kernelspec": {
   "display_name": "Python 3",
   "language": "python",
   "name": "python3"
  },
  "language_info": {
   "codemirror_mode": {
    "name": "ipython",
    "version": 3
   },
   "file_extension": ".py",
   "mimetype": "text/x-python",
   "name": "python",
   "nbconvert_exporter": "python",
   "pygments_lexer": "ipython3",
   "version": "3.11.11"
  }
 },
 "nbformat": 4,
 "nbformat_minor": 2
}
